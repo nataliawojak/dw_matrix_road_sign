{
  "nbformat": 4,
  "nbformat_minor": 0,
  "metadata": {
    "colab": {
      "name": "day5.ipynb",
      "provenance": [],
      "collapsed_sections": [],
      "mount_file_id": "1BDSXhEIQmCoA1UXXNRp4dQJKujPDQa1R",
      "authorship_tag": "ABX9TyPCcImFqcDdq96qv9it4ZM+",
      "include_colab_link": true
    },
    "kernelspec": {
      "name": "python3",
      "display_name": "Python 3"
    },
    "accelerator": "GPU"
  },
  "cells": [
    {
      "cell_type": "markdown",
      "metadata": {
        "id": "view-in-github",
        "colab_type": "text"
      },
      "source": [
        "<a href=\"https://colab.research.google.com/github/nataliawojak/dw_matrix_road_sign/blob/master/day5.ipynb\" target=\"_parent\"><img src=\"https://colab.research.google.com/assets/colab-badge.svg\" alt=\"Open In Colab\"/></a>"
      ]
    },
    {
      "cell_type": "code",
      "metadata": {
        "id": "AhnqVkKaX4zo",
        "colab_type": "code",
        "colab": {
          "base_uri": "https://localhost:8080/",
          "height": 177
        },
        "outputId": "037d0ee0-2df8-4e55-a99d-1e25262679a3"
      },
      "source": [
        "!pip install hyperopt"
      ],
      "execution_count": 1,
      "outputs": [
        {
          "output_type": "stream",
          "text": [
            "Requirement already satisfied: hyperopt in /usr/local/lib/python3.6/dist-packages (0.1.2)\n",
            "Requirement already satisfied: scipy in /usr/local/lib/python3.6/dist-packages (from hyperopt) (1.4.1)\n",
            "Requirement already satisfied: numpy in /usr/local/lib/python3.6/dist-packages (from hyperopt) (1.18.2)\n",
            "Requirement already satisfied: networkx in /usr/local/lib/python3.6/dist-packages (from hyperopt) (2.4)\n",
            "Requirement already satisfied: pymongo in /usr/local/lib/python3.6/dist-packages (from hyperopt) (3.10.1)\n",
            "Requirement already satisfied: tqdm in /usr/local/lib/python3.6/dist-packages (from hyperopt) (4.38.0)\n",
            "Requirement already satisfied: six in /usr/local/lib/python3.6/dist-packages (from hyperopt) (1.12.0)\n",
            "Requirement already satisfied: future in /usr/local/lib/python3.6/dist-packages (from hyperopt) (0.16.0)\n",
            "Requirement already satisfied: decorator>=4.3.0 in /usr/local/lib/python3.6/dist-packages (from networkx->hyperopt) (4.4.2)\n"
          ],
          "name": "stdout"
        }
      ]
    },
    {
      "cell_type": "code",
      "metadata": {
        "id": "xLbY_FanX-R7",
        "colab_type": "code",
        "colab": {}
      },
      "source": [
        "import pandas as pd\n",
        "import numpy as np\n",
        "\n",
        "import os\n",
        "import datetime\n",
        "\n",
        "import tensorflow as tf\n",
        "from tensorflow.keras.models import Sequential\n",
        "from tensorflow.keras.layers import Conv2D, MaxPool2D, Dense, Flatten, Dropout\n",
        "from tensorflow.keras.utils import to_categorical\n",
        "import matplotlib.pyplot as plt\n",
        "from skimage import color, exposure\n",
        "from sklearn.metrics import accuracy_score\n",
        "\n",
        "%load_ext tensorboard\n",
        "\n",
        "from hyperopt import hp,STATUS_OK, tpe, Trials, fmin"
      ],
      "execution_count": 0,
      "outputs": []
    },
    {
      "cell_type": "code",
      "metadata": {
        "id": "5hmeScbCYciF",
        "colab_type": "code",
        "colab": {
          "base_uri": "https://localhost:8080/",
          "height": 35
        },
        "outputId": "4d9f2079-030e-4d85-b1a0-e9c2fff7ea16"
      },
      "source": [
        "cd '/content/drive/My Drive/Colab Notebooks/matrix/matrix_three/dw_matrix_road_sign'"
      ],
      "execution_count": 3,
      "outputs": [
        {
          "output_type": "stream",
          "text": [
            "/content/drive/My Drive/Colab Notebooks/matrix/matrix_three/dw_matrix_road_sign\n"
          ],
          "name": "stdout"
        }
      ]
    },
    {
      "cell_type": "code",
      "metadata": {
        "id": "GltF7rcBYiBb",
        "colab_type": "code",
        "colab": {}
      },
      "source": [
        "\n",
        "train = pd.read_pickle('data/train.p')\n",
        "test = pd.read_pickle('data/test.p')\n",
        "\n",
        "X_train, y_train = train['features'], train['labels']\n",
        "X_test, y_test = test['features'], test['labels']"
      ],
      "execution_count": 0,
      "outputs": []
    },
    {
      "cell_type": "code",
      "metadata": {
        "id": "O8ocCKrEYlAi",
        "colab_type": "code",
        "colab": {}
      },
      "source": [
        "\n",
        "if y_train.ndim == 1: y_train = to_categorical(y_train)\n",
        "if y_test.ndim == 1: y_test = to_categorical(y_test)\n",
        "\n",
        "input_shape = X_train.shape[1:]\n",
        "num_classes = y_train.shape[1]"
      ],
      "execution_count": 0,
      "outputs": []
    },
    {
      "cell_type": "code",
      "metadata": {
        "id": "M2kAaw8VYtzW",
        "colab_type": "code",
        "colab": {}
      },
      "source": [
        "def train_model(model, X_train, y_train, params_fit={}):\n",
        "\n",
        "  model.compile(loss='categorical_crossentropy', optimizer='Adam', metrics=['accuracy'])\n",
        "\n",
        "  logdir = os.path.join('logs', datetime.datetime.now().strftime(\"%Y%m%d-%H%M%S\"))\n",
        "  tensorboard_callback = tf.keras.callbacks.TensorBoard(logdir, histogram_freq=1)\n",
        "  model.fit(X_train,\n",
        "            y_train,\n",
        "            batch_size=params_fit.get('batch_size', 128),\n",
        "            epochs = params_fit.get('epochs', 5),\n",
        "            verbose=params_fit.get('verbose', 1),\n",
        "            validation_data=params_fit.get('validation_data', (X_train, y_train)),\n",
        "            callbacks=[tensorboard_callback]\n",
        "\n",
        "            \n",
        "            \n",
        "            \n",
        "            \n",
        "            )\n",
        "  return model\n",
        "\n"
      ],
      "execution_count": 0,
      "outputs": []
    },
    {
      "cell_type": "code",
      "metadata": {
        "id": "gR8NSAD4Y65L",
        "colab_type": "code",
        "colab": {}
      },
      "source": [
        "def predict(model_trained, X_test, y_test, scoring=accuracy_score):\n",
        "\n",
        "  y_test_norm = np.argmax(y_test, axis=1)\n",
        "\n",
        "  y_predict_prob = model_trained.predict(X_test)\n",
        "  y_pred = np.argmax(y_predict_prob, axis=1)\n",
        "\n",
        "  return scoring(y_test_norm, y_pred)"
      ],
      "execution_count": 0,
      "outputs": []
    },
    {
      "cell_type": "code",
      "metadata": {
        "id": "1M0XD5JUZAA6",
        "colab_type": "code",
        "colab": {}
      },
      "source": [
        "def get_cnn_v5(input_shape, num_classes):\n",
        "  return Sequential([\n",
        "  Conv2D(filters=32, kernel_size=(3,3), activation='relu', input_shape=input_shape),\n",
        "  Conv2D(filters=32, kernel_size=(3,3), activation='relu', padding='same'),\n",
        "  MaxPool2D(),\n",
        "  Dropout(0.3),\n",
        "\n",
        "  Conv2D(filters=64, kernel_size=(3,3), activation='relu', padding='same'),\n",
        "  Conv2D(filters=64, kernel_size=(3,3), activation='relu'),\n",
        "  MaxPool2D(),\n",
        "  Dropout(0.3),\n",
        "\n",
        "  Conv2D(filters=64, kernel_size=(3,3), activation='relu', padding='same'),\n",
        "  Conv2D(filters=64, kernel_size=(3,3), activation='relu'),\n",
        "  MaxPool2D(),\n",
        "  Dropout(0.3),\n",
        "\n",
        "  Flatten(),\n",
        "\n",
        "  Dense(1024, activation='relu'),\n",
        "  Dropout(0.3),\n",
        "\n",
        "  Dense(1024, activation='relu'),\n",
        "  Dropout(0.3),\n",
        "\n",
        "  Dense(num_classes, activation='softmax'),\n",
        "])\n",
        "  \n"
      ],
      "execution_count": 0,
      "outputs": []
    },
    {
      "cell_type": "code",
      "metadata": {
        "id": "n6zz88jdZNFP",
        "colab_type": "code",
        "colab": {
          "base_uri": "https://localhost:8080/",
          "height": 232
        },
        "outputId": "e31701a3-1406-4aad-d383-67f26513a1d7"
      },
      "source": [
        "model = get_cnn_v5(input_shape, num_classes)\n",
        "model_trained = train_model(model, X_train, y_train)\n",
        "\n",
        "predict(model_trained, X_test, y_test)"
      ],
      "execution_count": 10,
      "outputs": [
        {
          "output_type": "stream",
          "text": [
            "Epoch 1/5\n",
            "272/272 [==============================] - 5s 17ms/step - loss: 2.6814 - accuracy: 0.2825 - val_loss: 1.2480 - val_accuracy: 0.5838\n",
            "Epoch 2/5\n",
            "272/272 [==============================] - 4s 16ms/step - loss: 1.0817 - accuracy: 0.6496 - val_loss: 0.4060 - val_accuracy: 0.8745\n",
            "Epoch 3/5\n",
            "272/272 [==============================] - 4s 16ms/step - loss: 0.5462 - accuracy: 0.8274 - val_loss: 0.1414 - val_accuracy: 0.9575\n",
            "Epoch 4/5\n",
            "272/272 [==============================] - 4s 16ms/step - loss: 0.3546 - accuracy: 0.8898 - val_loss: 0.0845 - val_accuracy: 0.9762\n",
            "Epoch 5/5\n",
            "272/272 [==============================] - 4s 16ms/step - loss: 0.2607 - accuracy: 0.9195 - val_loss: 0.0444 - val_accuracy: 0.9884\n"
          ],
          "name": "stdout"
        },
        {
          "output_type": "execute_result",
          "data": {
            "text/plain": [
              "0.9619047619047619"
            ]
          },
          "metadata": {
            "tags": []
          },
          "execution_count": 10
        }
      ]
    },
    {
      "cell_type": "code",
      "metadata": {
        "id": "diSH2cj7b5Kc",
        "colab_type": "code",
        "colab": {}
      },
      "source": [
        "def get_model(params):\n",
        "  return Sequential([\n",
        "  Conv2D(filters=32, kernel_size=(3,3), activation='relu', input_shape=input_shape),\n",
        "  Conv2D(filters=32, kernel_size=(3,3), activation='relu', padding='same'),\n",
        "  MaxPool2D(),\n",
        "  Dropout(params['dropout_cnn_block_one']),\n",
        "\n",
        "  Conv2D(filters=64, kernel_size=(3,3), activation='relu', padding='same'),\n",
        "  Conv2D(filters=64, kernel_size=(3,3), activation='relu'),\n",
        "  MaxPool2D(),\n",
        "  Dropout(params['dropout_cnn_block_two']),\n",
        "\n",
        "  Conv2D(filters=128, kernel_size=(3,3), activation='relu', padding='same'),\n",
        "  Conv2D(filters=128, kernel_size=(3,3), activation='relu'),\n",
        "  MaxPool2D(),\n",
        "  Dropout(params['dropout_cnn_block_three']),\n",
        "\n",
        "  Flatten(),\n",
        "\n",
        "  Dense(1024, activation='relu'),\n",
        "  Dropout(params['dropout_dense_block_one']),\n",
        "\n",
        "  Dense(1024, activation='relu'),\n",
        "  Dropout(params['dropout_dense_block_two']),\n",
        "\n",
        "  Dense(num_classes, activation='softmax'),\n",
        "])"
      ],
      "execution_count": 0,
      "outputs": []
    },
    {
      "cell_type": "code",
      "metadata": {
        "id": "Bx-bcfs9ZfRO",
        "colab_type": "code",
        "colab": {}
      },
      "source": [
        "def func_obj(params):\n",
        "  model = get_model(params)\n",
        "  model.compile(loss='categorical_crossentropy', optimizer='Adam', metrics=['accuracy'])\n",
        "\n",
        "  model.fit(X_train,\n",
        "            y_train,\n",
        "            batch_size=int(params.get('batch_size', 128)),\n",
        "            epochs = 5,\n",
        "            verbose=0)\n",
        "  score = model.evaluate(X_test, y_test, verbose=0)\n",
        "  accuracy = score[1]\n",
        "  print(params, 'accuracy={}'.format(accuracy))\n",
        "  return {'loss': -accuracy, 'status': STATUS_OK,'model': model}\n"
      ],
      "execution_count": 0,
      "outputs": []
    },
    {
      "cell_type": "code",
      "metadata": {
        "id": "u4XW4DqFaZWy",
        "colab_type": "code",
        "colab": {
          "base_uri": "https://localhost:8080/",
          "height": 1000
        },
        "outputId": "4f9a1735-3767-43f7-f074-1e9b6e37f893"
      },
      "source": [
        "space = {\n",
        "    'batch_size': hp.quniform('batch_size', 100, 200, 10),\n",
        "    'dropout_cnn_block_one': hp.uniform('dropout_cnn_block_one', 0.3, 0.5),\n",
        "    'dropout_cnn_block_two': hp.uniform('dropout_cnn_block_two', 0.3, 0.5),\n",
        "    'dropout_cnn_block_three': hp.uniform('dropout_cnn_block_three', 0.3, 0.5),\n",
        "    'dropout_dense_block_one': hp.uniform('dropout_dense_block_one', 0.3, 0.7),\n",
        "    'dropout_dense_block_two': hp.uniform('dropout_dense_block_two', 0.3, 0.7),\n",
        "}\n",
        "\n",
        "best = fmin(\n",
        "    func_obj,\n",
        "    space,\n",
        "    tpe.suggest,\n",
        "    30,\n",
        "    Trials()\n",
        "    \n",
        ")"
      ],
      "execution_count": 14,
      "outputs": [
        {
          "output_type": "stream",
          "text": [
            "{'batch_size': 160.0, 'dropout_cnn_block_one': 0.4633591448385018, 'dropout_cnn_block_three': 0.3927922248519149, 'dropout_cnn_block_two': 0.3069666286394283, 'dropout_dense_block_one': 0.6670117560155427, 'dropout_dense_block_two': 0.5775153555533963}\n",
            "accuracy=0.9251700639724731\n",
            "{'batch_size': 110.0, 'dropout_cnn_block_one': 0.4377713260482651, 'dropout_cnn_block_three': 0.4371828384684936, 'dropout_cnn_block_two': 0.48597625402708283, 'dropout_dense_block_one': 0.45828822351982484, 'dropout_dense_block_two': 0.5275155071494704}\n",
            "accuracy=0.9453514814376831\n",
            "{'batch_size': 110.0, 'dropout_cnn_block_one': 0.3220652576007554, 'dropout_cnn_block_three': 0.34775746849347805, 'dropout_cnn_block_two': 0.390875830723645, 'dropout_dense_block_one': 0.39798391620697904, 'dropout_dense_block_two': 0.35337137906736726}\n",
            "accuracy=0.963718831539154\n",
            "{'batch_size': 170.0, 'dropout_cnn_block_one': 0.3485192177038281, 'dropout_cnn_block_three': 0.4682196181297759, 'dropout_cnn_block_two': 0.32588572808611715, 'dropout_dense_block_one': 0.3659925081549306, 'dropout_dense_block_two': 0.4605902547187124}\n",
            "accuracy=0.9435374140739441\n",
            "{'batch_size': 100.0, 'dropout_cnn_block_one': 0.35276332344502537, 'dropout_cnn_block_three': 0.47284268308402994, 'dropout_cnn_block_two': 0.30209566358289813, 'dropout_dense_block_one': 0.4568166296135059, 'dropout_dense_block_two': 0.5762657634199837}\n",
            "accuracy=0.9512471556663513\n",
            "{'batch_size': 170.0, 'dropout_cnn_block_one': 0.3541754417539947, 'dropout_cnn_block_three': 0.4240388647160369, 'dropout_cnn_block_two': 0.49307197660344393, 'dropout_dense_block_one': 0.3889259851962509, 'dropout_dense_block_two': 0.48266901313974536}\n",
            "accuracy=0.9297052025794983\n",
            "{'batch_size': 100.0, 'dropout_cnn_block_one': 0.46927968870995185, 'dropout_cnn_block_three': 0.3687497904978543, 'dropout_cnn_block_two': 0.3333476917758449, 'dropout_dense_block_one': 0.6431049090395089, 'dropout_dense_block_two': 0.4758620802359065}\n",
            "accuracy=0.9269841313362122\n",
            "{'batch_size': 190.0, 'dropout_cnn_block_one': 0.4620574679157584, 'dropout_cnn_block_three': 0.39946928213374866, 'dropout_cnn_block_two': 0.4175642023025882, 'dropout_dense_block_one': 0.46171227056461994, 'dropout_dense_block_two': 0.38731604746323833}\n",
            "accuracy=0.9113378524780273\n",
            "{'batch_size': 190.0, 'dropout_cnn_block_one': 0.3742353006699157, 'dropout_cnn_block_three': 0.4160205435507831, 'dropout_cnn_block_two': 0.3883942028297076, 'dropout_dense_block_one': 0.5946132288007989, 'dropout_dense_block_two': 0.39563433905013995}\n",
            "accuracy=0.9054421782493591\n",
            "{'batch_size': 110.0, 'dropout_cnn_block_one': 0.3758678076185397, 'dropout_cnn_block_three': 0.4969956135421739, 'dropout_cnn_block_two': 0.33169136062139876, 'dropout_dense_block_one': 0.5443286962769716, 'dropout_dense_block_two': 0.4670092788926218}\n",
            "accuracy=0.9607709646224976\n",
            "{'batch_size': 130.0, 'dropout_cnn_block_one': 0.49006815760651484, 'dropout_cnn_block_three': 0.4675466505191645, 'dropout_cnn_block_two': 0.4585960495131472, 'dropout_dense_block_one': 0.48483127246231195, 'dropout_dense_block_two': 0.4170758311270999}\n",
            "accuracy=0.920634925365448\n",
            "{'batch_size': 130.0, 'dropout_cnn_block_one': 0.37899013339227916, 'dropout_cnn_block_three': 0.39004460584204503, 'dropout_cnn_block_two': 0.3644498220372777, 'dropout_dense_block_one': 0.6708667863592929, 'dropout_dense_block_two': 0.40660018480904564}\n",
            "accuracy=0.9267573952674866\n",
            "{'batch_size': 140.0, 'dropout_cnn_block_one': 0.4255075465766291, 'dropout_cnn_block_three': 0.3572491142922313, 'dropout_cnn_block_two': 0.3671227737954852, 'dropout_dense_block_one': 0.639630334226644, 'dropout_dense_block_two': 0.48848147199395897}\n",
            "accuracy=0.9077097773551941\n",
            "{'batch_size': 120.0, 'dropout_cnn_block_one': 0.42155500849625105, 'dropout_cnn_block_three': 0.3172411454288092, 'dropout_cnn_block_two': 0.36790864109296767, 'dropout_dense_block_one': 0.554221496430287, 'dropout_dense_block_two': 0.5170277058176983}\n",
            "accuracy=0.936734676361084\n",
            "{'batch_size': 200.0, 'dropout_cnn_block_one': 0.44339492626275495, 'dropout_cnn_block_three': 0.4653527204613903, 'dropout_cnn_block_two': 0.32722057656487125, 'dropout_dense_block_one': 0.3762930723069727, 'dropout_dense_block_two': 0.6384243444845908}\n",
            "accuracy=0.9179138541221619\n",
            "{'batch_size': 140.0, 'dropout_cnn_block_one': 0.3060429527640442, 'dropout_cnn_block_three': 0.4242418625495795, 'dropout_cnn_block_two': 0.4028908368491305, 'dropout_dense_block_one': 0.3972178187098059, 'dropout_dense_block_two': 0.4171498284364852}\n",
            "accuracy=0.9634920358657837\n",
            "{'batch_size': 150.0, 'dropout_cnn_block_one': 0.38940707591295387, 'dropout_cnn_block_three': 0.4655536227067027, 'dropout_cnn_block_two': 0.4986742011334355, 'dropout_dense_block_one': 0.3755545702078982, 'dropout_dense_block_two': 0.53256224566212}\n",
            "accuracy=0.939002275466919\n",
            "{'batch_size': 100.0, 'dropout_cnn_block_one': 0.35760967352927187, 'dropout_cnn_block_three': 0.4277508731130961, 'dropout_cnn_block_two': 0.3129935363048686, 'dropout_dense_block_one': 0.6908471742946499, 'dropout_dense_block_two': 0.3080979815852763}\n",
            "accuracy=0.9360544085502625\n",
            "{'batch_size': 180.0, 'dropout_cnn_block_one': 0.4840778647568254, 'dropout_cnn_block_three': 0.42137953997858363, 'dropout_cnn_block_two': 0.3559389602679324, 'dropout_dense_block_one': 0.5317574031007772, 'dropout_dense_block_two': 0.5002623740371188}\n",
            "accuracy=0.6548752784729004\n",
            "{'batch_size': 170.0, 'dropout_cnn_block_one': 0.4012748107600056, 'dropout_cnn_block_three': 0.4704004574985305, 'dropout_cnn_block_two': 0.3489054155243576, 'dropout_dense_block_one': 0.6311321766352469, 'dropout_dense_block_two': 0.5488814870488344}\n",
            "accuracy=0.9453514814376831\n",
            "{'batch_size': 140.0, 'dropout_cnn_block_one': 0.3117234604058285, 'dropout_cnn_block_three': 0.31091351458811894, 'dropout_cnn_block_two': 0.42581837773633524, 'dropout_dense_block_one': 0.3030524626139095, 'dropout_dense_block_two': 0.3191963970666352}\n",
            "accuracy=0.9492063522338867\n",
            "{'batch_size': 120.0, 'dropout_cnn_block_one': 0.30134234111065866, 'dropout_cnn_block_three': 0.33639988494131956, 'dropout_cnn_block_two': 0.4013429319782547, 'dropout_dense_block_one': 0.419040137933312, 'dropout_dense_block_two': 0.3478518086419871}\n",
            "accuracy=0.9655328989028931\n",
            "{'batch_size': 110.0, 'dropout_cnn_block_one': 0.31206853429743975, 'dropout_cnn_block_three': 0.32577901062646375, 'dropout_cnn_block_two': 0.4457343975053166, 'dropout_dense_block_one': 0.3164475901617454, 'dropout_dense_block_two': 0.34481648838502865}\n",
            "accuracy=0.9530612230300903\n",
            "{'batch_size': 120.0, 'dropout_cnn_block_one': 0.33562886151388865, 'dropout_cnn_block_three': 0.3387875970825538, 'dropout_cnn_block_two': 0.3892449068044649, 'dropout_dense_block_one': 0.42969536623762844, 'dropout_dense_block_two': 0.3521898721414336}\n",
            "accuracy=0.9560090899467468\n",
            "{'batch_size': 120.0, 'dropout_cnn_block_one': 0.31951788109912954, 'dropout_cnn_block_three': 0.34952805824957667, 'dropout_cnn_block_two': 0.442958976461002, 'dropout_dense_block_one': 0.32908687865376307, 'dropout_dense_block_two': 0.3595013958275308}\n",
            "accuracy=0.9603174328804016\n",
            "{'batch_size': 130.0, 'dropout_cnn_block_one': 0.32769627209622504, 'dropout_cnn_block_three': 0.3735393366040287, 'dropout_cnn_block_two': 0.41033997633539804, 'dropout_dense_block_one': 0.4147095888330431, 'dropout_dense_block_two': 0.6927101099286095}\n",
            "accuracy=0.9222221970558167\n",
            "{'batch_size': 110.0, 'dropout_cnn_block_one': 0.30172934331790136, 'dropout_cnn_block_three': 0.3011883693540323, 'dropout_cnn_block_two': 0.3884926215589476, 'dropout_dense_block_one': 0.33397435466473313, 'dropout_dense_block_two': 0.30595772650646696}\n",
            "accuracy=0.9519274234771729\n",
            "{'batch_size': 120.0, 'dropout_cnn_block_one': 0.33622033692584774, 'dropout_cnn_block_three': 0.33454294746903657, 'dropout_cnn_block_two': 0.4716316664452028, 'dropout_dense_block_one': 0.4967232722962712, 'dropout_dense_block_two': 0.4338586888001801}\n",
            "accuracy=0.958276629447937\n",
            "{'batch_size': 150.0, 'dropout_cnn_block_one': 0.32284507290745923, 'dropout_cnn_block_three': 0.30030702058026043, 'dropout_cnn_block_two': 0.4348403938787591, 'dropout_dense_block_one': 0.42996046160552825, 'dropout_dense_block_two': 0.33610760698616327}\n",
            "accuracy=0.96417236328125\n",
            "{'batch_size': 160.0, 'dropout_cnn_block_one': 0.3375918493567383, 'dropout_cnn_block_three': 0.3095198486049842, 'dropout_cnn_block_two': 0.43198795655579975, 'dropout_dense_block_one': 0.35249781460155594, 'dropout_dense_block_two': 0.37889508675117795}\n",
            "accuracy=0.9630385637283325\n",
            "100%|██████████| 30/30 [06:01<00:00, 12.05s/it, best loss: -0.9655328989028931]\n"
          ],
          "name": "stdout"
        }
      ]
    },
    {
      "cell_type": "code",
      "metadata": {
        "id": "pacLXi9ibZoo",
        "colab_type": "code",
        "colab": {}
      },
      "source": [
        ""
      ],
      "execution_count": 0,
      "outputs": []
    }
  ]
}